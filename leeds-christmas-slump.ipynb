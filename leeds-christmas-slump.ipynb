{
 "cells": [
  {
   "cell_type": "markdown",
   "metadata": {},
   "source": [
    "# Do Leeds United Perform Worse Over the Christmas Period?\n",
    "\n",
    "My father is a mad-keen Leeds United supporter - he's been through all of the highs and the lows of the last 16 years that they've been in the footballing wilderness. It's been a staple of my life that Leeds would have a promising start to the season, and then my father would grumble pessimistically - \"Just wait until Christmas\". One day he asked me - is it really true that Leeds perform worse over the Christmas period? \n",
    "\n",
    "To answer this question, I collected data on Premier League results from the last 5 years to the end of 2019. I then set my target period as the month following Christmas, from the 26th December - 31st January of the following year."
   ]
  },
  {
   "cell_type": "code",
   "execution_count": 10,
   "metadata": {},
   "outputs": [],
   "source": [
    "from datetime import datetime, timedelta\n",
    "from math import sqrt\n",
    "\n",
    "import pandas as pd\n",
    "import numpy as np\n",
    "\n",
    "data = pd.read_excel(\"data.xlsx\")"
   ]
  },
  {
   "cell_type": "code",
   "execution_count": 11,
   "metadata": {},
   "outputs": [
    {
     "data": {
      "text/html": [
       "<div>\n",
       "<style scoped>\n",
       "    .dataframe tbody tr th:only-of-type {\n",
       "        vertical-align: middle;\n",
       "    }\n",
       "\n",
       "    .dataframe tbody tr th {\n",
       "        vertical-align: top;\n",
       "    }\n",
       "\n",
       "    .dataframe thead th {\n",
       "        text-align: right;\n",
       "    }\n",
       "</style>\n",
       "<table border=\"1\" class=\"dataframe\">\n",
       "  <thead>\n",
       "    <tr style=\"text-align: right;\">\n",
       "      <th></th>\n",
       "      <th>Season</th>\n",
       "      <th>Date</th>\n",
       "      <th>Home</th>\n",
       "      <th>Home_Score</th>\n",
       "      <th>Away_Score</th>\n",
       "      <th>Away</th>\n",
       "      <th>Leeds_Score</th>\n",
       "      <th>Opponent_Score</th>\n",
       "      <th>Points</th>\n",
       "      <th>In_Window</th>\n",
       "      <th>percent_available</th>\n",
       "    </tr>\n",
       "  </thead>\n",
       "  <tbody>\n",
       "    <tr>\n",
       "      <th>0</th>\n",
       "      <td>2019</td>\n",
       "      <td>2019-08-10</td>\n",
       "      <td>Leeds</td>\n",
       "      <td>1</td>\n",
       "      <td>1</td>\n",
       "      <td>Nott Forest</td>\n",
       "      <td>1</td>\n",
       "      <td>1</td>\n",
       "      <td>1</td>\n",
       "      <td>0</td>\n",
       "      <td>0.333333</td>\n",
       "    </tr>\n",
       "    <tr>\n",
       "      <th>1</th>\n",
       "      <td>2019</td>\n",
       "      <td>2019-08-22</td>\n",
       "      <td>Leeds</td>\n",
       "      <td>1</td>\n",
       "      <td>0</td>\n",
       "      <td>Brentford</td>\n",
       "      <td>1</td>\n",
       "      <td>0</td>\n",
       "      <td>3</td>\n",
       "      <td>0</td>\n",
       "      <td>1.000000</td>\n",
       "    </tr>\n",
       "    <tr>\n",
       "      <th>2</th>\n",
       "      <td>2019</td>\n",
       "      <td>2019-08-31</td>\n",
       "      <td>Leeds</td>\n",
       "      <td>0</td>\n",
       "      <td>1</td>\n",
       "      <td>Swansea</td>\n",
       "      <td>0</td>\n",
       "      <td>1</td>\n",
       "      <td>0</td>\n",
       "      <td>0</td>\n",
       "      <td>0.000000</td>\n",
       "    </tr>\n",
       "    <tr>\n",
       "      <th>3</th>\n",
       "      <td>2019</td>\n",
       "      <td>2019-09-21</td>\n",
       "      <td>Leeds</td>\n",
       "      <td>1</td>\n",
       "      <td>1</td>\n",
       "      <td>Derby</td>\n",
       "      <td>1</td>\n",
       "      <td>1</td>\n",
       "      <td>1</td>\n",
       "      <td>0</td>\n",
       "      <td>0.333333</td>\n",
       "    </tr>\n",
       "    <tr>\n",
       "      <th>4</th>\n",
       "      <td>2019</td>\n",
       "      <td>2019-10-01</td>\n",
       "      <td>Leeds</td>\n",
       "      <td>1</td>\n",
       "      <td>0</td>\n",
       "      <td>West Brom</td>\n",
       "      <td>1</td>\n",
       "      <td>0</td>\n",
       "      <td>3</td>\n",
       "      <td>0</td>\n",
       "      <td>1.000000</td>\n",
       "    </tr>\n",
       "  </tbody>\n",
       "</table>\n",
       "</div>"
      ],
      "text/plain": [
       "   Season       Date   Home  Home_Score  Away_Score         Away  Leeds_Score  \\\n",
       "0    2019 2019-08-10  Leeds           1           1  Nott Forest            1   \n",
       "1    2019 2019-08-22  Leeds           1           0    Brentford            1   \n",
       "2    2019 2019-08-31  Leeds           0           1      Swansea            0   \n",
       "3    2019 2019-09-21  Leeds           1           1        Derby            1   \n",
       "4    2019 2019-10-01  Leeds           1           0    West Brom            1   \n",
       "\n",
       "   Opponent_Score  Points  In_Window  percent_available  \n",
       "0               1       1          0           0.333333  \n",
       "1               0       3          0           1.000000  \n",
       "2               1       0          0           0.000000  \n",
       "3               1       1          0           0.333333  \n",
       "4               0       3          0           1.000000  "
      ]
     },
     "execution_count": 11,
     "metadata": {},
     "output_type": "execute_result"
    }
   ],
   "source": [
    "data.head()"
   ]
  },
  {
   "cell_type": "code",
   "execution_count": 22,
   "metadata": {},
   "outputs": [
    {
     "data": {
      "text/html": [
       "<div>\n",
       "<style scoped>\n",
       "    .dataframe tbody tr th:only-of-type {\n",
       "        vertical-align: middle;\n",
       "    }\n",
       "\n",
       "    .dataframe tbody tr th {\n",
       "        vertical-align: top;\n",
       "    }\n",
       "\n",
       "    .dataframe thead th {\n",
       "        text-align: right;\n",
       "    }\n",
       "</style>\n",
       "<table border=\"1\" class=\"dataframe\">\n",
       "  <thead>\n",
       "    <tr style=\"text-align: right;\">\n",
       "      <th></th>\n",
       "      <th>percent_available</th>\n",
       "    </tr>\n",
       "    <tr>\n",
       "      <th>In_Window</th>\n",
       "      <th></th>\n",
       "    </tr>\n",
       "  </thead>\n",
       "  <tbody>\n",
       "    <tr>\n",
       "      <th>0</th>\n",
       "      <td>0.513043</td>\n",
       "    </tr>\n",
       "    <tr>\n",
       "      <th>1</th>\n",
       "      <td>0.450450</td>\n",
       "    </tr>\n",
       "  </tbody>\n",
       "</table>\n",
       "</div>"
      ],
      "text/plain": [
       "           percent_available\n",
       "In_Window                   \n",
       "0                   0.513043\n",
       "1                   0.450450"
      ]
     },
     "execution_count": 22,
     "metadata": {},
     "output_type": "execute_result"
    }
   ],
   "source": [
    "points_proportions = data.groupby('In_Window')[['percent_available']].mean()\n",
    "christmas_points_proportion = points_proportions.loc[1, 'percent_available']\n",
    "non_christmas_points_proportion = points_proportions.loc[0, 'percent_available']\n",
    "\n",
    "points_proportions"
   ]
  },
  {
   "cell_type": "markdown",
   "metadata": {},
   "source": [
    "The table above shows the the proportion of points that Leeds won in the Christmas and non-Christmas period, being 51.3% and 45.0% respectively. This would initially show that there is some merit to our hypothesis. \n",
    "However, let's make this more formal with a hypothesis test.\n",
    "\n",
    "Let $p_{Xmas}$, $p_{Other}$ be the proportions of points scored between christmas, points scored outside of christmas."
   ]
  },
  {
   "cell_type": "markdown",
   "metadata": {},
   "source": [
    "## Hypothesis Testing\n",
    "\n",
    "Our hypotheses are:\n",
    "\n",
    "$H_{0}: p_{Xmas} = p_{Other}$\n",
    "\n",
    "$H_{1}: p_{Xmas} < p_{Other}$\n",
    "\n",
    "We will continue with a two-sample Z test of proportions. We're going to do this twice, once for the case of winning, and once for the case of drawing or winning."
   ]
  },
  {
   "cell_type": "code",
   "execution_count": 13,
   "metadata": {},
   "outputs": [],
   "source": [
    "data['draw_or_win'] = np.where(data['Points'] > 0, 1, 0)"
   ]
  },
  {
   "cell_type": "code",
   "execution_count": 14,
   "metadata": {},
   "outputs": [
    {
     "data": {
      "text/html": [
       "<div>\n",
       "<style scoped>\n",
       "    .dataframe tbody tr th:only-of-type {\n",
       "        vertical-align: middle;\n",
       "    }\n",
       "\n",
       "    .dataframe tbody tr th {\n",
       "        vertical-align: top;\n",
       "    }\n",
       "\n",
       "    .dataframe thead th {\n",
       "        text-align: right;\n",
       "    }\n",
       "</style>\n",
       "<table border=\"1\" class=\"dataframe\">\n",
       "  <thead>\n",
       "    <tr style=\"text-align: right;\">\n",
       "      <th></th>\n",
       "      <th>Season</th>\n",
       "      <th>Date</th>\n",
       "      <th>Home</th>\n",
       "      <th>Home_Score</th>\n",
       "      <th>Away_Score</th>\n",
       "      <th>Away</th>\n",
       "      <th>Leeds_Score</th>\n",
       "      <th>Opponent_Score</th>\n",
       "      <th>Points</th>\n",
       "      <th>In_Window</th>\n",
       "      <th>percent_available</th>\n",
       "      <th>draw_or_win</th>\n",
       "    </tr>\n",
       "  </thead>\n",
       "  <tbody>\n",
       "    <tr>\n",
       "      <th>0</th>\n",
       "      <td>2019</td>\n",
       "      <td>2019-08-10</td>\n",
       "      <td>Leeds</td>\n",
       "      <td>1</td>\n",
       "      <td>1</td>\n",
       "      <td>Nott Forest</td>\n",
       "      <td>1</td>\n",
       "      <td>1</td>\n",
       "      <td>1</td>\n",
       "      <td>0</td>\n",
       "      <td>0.333333</td>\n",
       "      <td>1</td>\n",
       "    </tr>\n",
       "    <tr>\n",
       "      <th>1</th>\n",
       "      <td>2019</td>\n",
       "      <td>2019-08-22</td>\n",
       "      <td>Leeds</td>\n",
       "      <td>1</td>\n",
       "      <td>0</td>\n",
       "      <td>Brentford</td>\n",
       "      <td>1</td>\n",
       "      <td>0</td>\n",
       "      <td>3</td>\n",
       "      <td>0</td>\n",
       "      <td>1.000000</td>\n",
       "      <td>1</td>\n",
       "    </tr>\n",
       "    <tr>\n",
       "      <th>2</th>\n",
       "      <td>2019</td>\n",
       "      <td>2019-08-31</td>\n",
       "      <td>Leeds</td>\n",
       "      <td>0</td>\n",
       "      <td>1</td>\n",
       "      <td>Swansea</td>\n",
       "      <td>0</td>\n",
       "      <td>1</td>\n",
       "      <td>0</td>\n",
       "      <td>0</td>\n",
       "      <td>0.000000</td>\n",
       "      <td>0</td>\n",
       "    </tr>\n",
       "    <tr>\n",
       "      <th>3</th>\n",
       "      <td>2019</td>\n",
       "      <td>2019-09-21</td>\n",
       "      <td>Leeds</td>\n",
       "      <td>1</td>\n",
       "      <td>1</td>\n",
       "      <td>Derby</td>\n",
       "      <td>1</td>\n",
       "      <td>1</td>\n",
       "      <td>1</td>\n",
       "      <td>0</td>\n",
       "      <td>0.333333</td>\n",
       "      <td>1</td>\n",
       "    </tr>\n",
       "    <tr>\n",
       "      <th>4</th>\n",
       "      <td>2019</td>\n",
       "      <td>2019-10-01</td>\n",
       "      <td>Leeds</td>\n",
       "      <td>1</td>\n",
       "      <td>0</td>\n",
       "      <td>West Brom</td>\n",
       "      <td>1</td>\n",
       "      <td>0</td>\n",
       "      <td>3</td>\n",
       "      <td>0</td>\n",
       "      <td>1.000000</td>\n",
       "      <td>1</td>\n",
       "    </tr>\n",
       "  </tbody>\n",
       "</table>\n",
       "</div>"
      ],
      "text/plain": [
       "   Season       Date   Home  Home_Score  Away_Score         Away  Leeds_Score  \\\n",
       "0    2019 2019-08-10  Leeds           1           1  Nott Forest            1   \n",
       "1    2019 2019-08-22  Leeds           1           0    Brentford            1   \n",
       "2    2019 2019-08-31  Leeds           0           1      Swansea            0   \n",
       "3    2019 2019-09-21  Leeds           1           1        Derby            1   \n",
       "4    2019 2019-10-01  Leeds           1           0    West Brom            1   \n",
       "\n",
       "   Opponent_Score  Points  In_Window  percent_available  draw_or_win  \n",
       "0               1       1          0           0.333333            1  \n",
       "1               0       3          0           1.000000            1  \n",
       "2               1       0          0           0.000000            0  \n",
       "3               1       1          0           0.333333            1  \n",
       "4               0       3          0           1.000000            1  "
      ]
     },
     "execution_count": 14,
     "metadata": {},
     "output_type": "execute_result"
    }
   ],
   "source": [
    "data.head()"
   ]
  },
  {
   "cell_type": "code",
   "execution_count": 25,
   "metadata": {},
   "outputs": [
    {
     "data": {
      "text/plain": [
       "In_Window\n",
       "0    0.660870\n",
       "1    0.648649\n",
       "Name: draw_or_win, dtype: float64"
      ]
     },
     "execution_count": 25,
     "metadata": {},
     "output_type": "execute_result"
    }
   ],
   "source": [
    "draw_or_win_proportions = data.groupby('In_Window')['draw_or_win'].mean()\n",
    "christmas_draw_or_win = draw_or_win_proportions[1]\n",
    "non_christmas_draw_or_win = draw_or_win_proportions[0]\n",
    "\n",
    "draw_or_win_proportions"
   ]
  },
  {
   "cell_type": "markdown",
   "metadata": {},
   "source": [
    "The test statistic is:\n",
    "\n",
    "$Z = \\frac{\\hat{p_{Xmas}} - \\hat{p_{Other}}}{\\sqrt{\\frac{p_{Xmas}(1-p_{Xmas})}{n_{Xmas}}+\\frac{p_{Other}(1-p_{Other})}{n_{Other}}}}$"
   ]
  },
  {
   "cell_type": "code",
   "execution_count": 26,
   "metadata": {},
   "outputs": [],
   "source": [
    "# These give us the sample sizes - we can see the sample size for the Christmas period\n",
    "# is lower as expected.\n",
    "sample_sizes = data.groupby('In_Window')[['draw_or_win']].count()\n",
    "christmas_sample_size = sample_sizes.loc[1, 'draw_or_win']\n",
    "non_christmas_sample_size = sample_sizes.loc[0, 'draw_or_win']"
   ]
  },
  {
   "cell_type": "code",
   "execution_count": 28,
   "metadata": {},
   "outputs": [
    {
     "data": {
      "text/plain": [
       "-0.14"
      ]
     },
     "execution_count": 28,
     "metadata": {},
     "output_type": "execute_result"
    }
   ],
   "source": [
    "# Calculate the test statistic\n",
    "Z = (christmas_draw_or_win - non_christmas_draw_or_win) / (sqrt((non_christmas_draw_or_win * (1 - non_christmas_draw_or_win) / non_christmas_sample_size) + christmas_draw_or_win * (1 - christmas_draw_or_win) / christmas_sample_size))\n",
    "round(Z, 2)"
   ]
  },
  {
   "cell_type": "markdown",
   "metadata": {},
   "source": [
    "This is not nearly large enough of a Z score to say that this difference is statistically significant, which is unsurprising giving the relatively small sample size. \n",
    "\n",
    "Let's see if there is a larger effect for winning games."
   ]
  },
  {
   "cell_type": "code",
   "execution_count": 29,
   "metadata": {},
   "outputs": [],
   "source": [
    "data['win'] = np.where(data['Points'] > 2, 1, 0)"
   ]
  },
  {
   "cell_type": "code",
   "execution_count": 30,
   "metadata": {},
   "outputs": [
    {
     "data": {
      "text/html": [
       "<div>\n",
       "<style scoped>\n",
       "    .dataframe tbody tr th:only-of-type {\n",
       "        vertical-align: middle;\n",
       "    }\n",
       "\n",
       "    .dataframe tbody tr th {\n",
       "        vertical-align: top;\n",
       "    }\n",
       "\n",
       "    .dataframe thead th {\n",
       "        text-align: right;\n",
       "    }\n",
       "</style>\n",
       "<table border=\"1\" class=\"dataframe\">\n",
       "  <thead>\n",
       "    <tr style=\"text-align: right;\">\n",
       "      <th></th>\n",
       "      <th>Season</th>\n",
       "      <th>Date</th>\n",
       "      <th>Home</th>\n",
       "      <th>Home_Score</th>\n",
       "      <th>Away_Score</th>\n",
       "      <th>Away</th>\n",
       "      <th>Leeds_Score</th>\n",
       "      <th>Opponent_Score</th>\n",
       "      <th>Points</th>\n",
       "      <th>In_Window</th>\n",
       "      <th>percent_available</th>\n",
       "      <th>draw_or_win</th>\n",
       "      <th>win</th>\n",
       "    </tr>\n",
       "  </thead>\n",
       "  <tbody>\n",
       "    <tr>\n",
       "      <th>0</th>\n",
       "      <td>2019</td>\n",
       "      <td>2019-08-10</td>\n",
       "      <td>Leeds</td>\n",
       "      <td>1</td>\n",
       "      <td>1</td>\n",
       "      <td>Nott Forest</td>\n",
       "      <td>1</td>\n",
       "      <td>1</td>\n",
       "      <td>1</td>\n",
       "      <td>0</td>\n",
       "      <td>0.333333</td>\n",
       "      <td>1</td>\n",
       "      <td>0</td>\n",
       "    </tr>\n",
       "    <tr>\n",
       "      <th>1</th>\n",
       "      <td>2019</td>\n",
       "      <td>2019-08-22</td>\n",
       "      <td>Leeds</td>\n",
       "      <td>1</td>\n",
       "      <td>0</td>\n",
       "      <td>Brentford</td>\n",
       "      <td>1</td>\n",
       "      <td>0</td>\n",
       "      <td>3</td>\n",
       "      <td>0</td>\n",
       "      <td>1.000000</td>\n",
       "      <td>1</td>\n",
       "      <td>1</td>\n",
       "    </tr>\n",
       "    <tr>\n",
       "      <th>2</th>\n",
       "      <td>2019</td>\n",
       "      <td>2019-08-31</td>\n",
       "      <td>Leeds</td>\n",
       "      <td>0</td>\n",
       "      <td>1</td>\n",
       "      <td>Swansea</td>\n",
       "      <td>0</td>\n",
       "      <td>1</td>\n",
       "      <td>0</td>\n",
       "      <td>0</td>\n",
       "      <td>0.000000</td>\n",
       "      <td>0</td>\n",
       "      <td>0</td>\n",
       "    </tr>\n",
       "    <tr>\n",
       "      <th>3</th>\n",
       "      <td>2019</td>\n",
       "      <td>2019-09-21</td>\n",
       "      <td>Leeds</td>\n",
       "      <td>1</td>\n",
       "      <td>1</td>\n",
       "      <td>Derby</td>\n",
       "      <td>1</td>\n",
       "      <td>1</td>\n",
       "      <td>1</td>\n",
       "      <td>0</td>\n",
       "      <td>0.333333</td>\n",
       "      <td>1</td>\n",
       "      <td>0</td>\n",
       "    </tr>\n",
       "    <tr>\n",
       "      <th>4</th>\n",
       "      <td>2019</td>\n",
       "      <td>2019-10-01</td>\n",
       "      <td>Leeds</td>\n",
       "      <td>1</td>\n",
       "      <td>0</td>\n",
       "      <td>West Brom</td>\n",
       "      <td>1</td>\n",
       "      <td>0</td>\n",
       "      <td>3</td>\n",
       "      <td>0</td>\n",
       "      <td>1.000000</td>\n",
       "      <td>1</td>\n",
       "      <td>1</td>\n",
       "    </tr>\n",
       "  </tbody>\n",
       "</table>\n",
       "</div>"
      ],
      "text/plain": [
       "   Season       Date   Home  Home_Score  Away_Score         Away  Leeds_Score  \\\n",
       "0    2019 2019-08-10  Leeds           1           1  Nott Forest            1   \n",
       "1    2019 2019-08-22  Leeds           1           0    Brentford            1   \n",
       "2    2019 2019-08-31  Leeds           0           1      Swansea            0   \n",
       "3    2019 2019-09-21  Leeds           1           1        Derby            1   \n",
       "4    2019 2019-10-01  Leeds           1           0    West Brom            1   \n",
       "\n",
       "   Opponent_Score  Points  In_Window  percent_available  draw_or_win  win  \n",
       "0               1       1          0           0.333333            1    0  \n",
       "1               0       3          0           1.000000            1    1  \n",
       "2               1       0          0           0.000000            0    0  \n",
       "3               1       1          0           0.333333            1    0  \n",
       "4               0       3          0           1.000000            1    1  "
      ]
     },
     "execution_count": 30,
     "metadata": {},
     "output_type": "execute_result"
    }
   ],
   "source": [
    "data.head()"
   ]
  },
  {
   "cell_type": "code",
   "execution_count": 35,
   "metadata": {},
   "outputs": [
    {
     "data": {
      "text/plain": [
       "In_Window\n",
       "0    0.439130\n",
       "1    0.351351\n",
       "Name: win, dtype: float64"
      ]
     },
     "execution_count": 35,
     "metadata": {},
     "output_type": "execute_result"
    }
   ],
   "source": [
    "win_proportions = data.groupby('In_Window')['win'].mean()\n",
    "christmas_win_proportion = win_proportions[1]\n",
    "non_christmas_win_proportion = win_proportions[0]\n",
    "\n",
    "win_proportions"
   ]
  },
  {
   "cell_type": "markdown",
   "metadata": {},
   "source": [
    "We can use the sample sizes from before as the number of games inside and outside of the windows have not changed."
   ]
  },
  {
   "cell_type": "code",
   "execution_count": 36,
   "metadata": {},
   "outputs": [
    {
     "data": {
      "text/plain": [
       "-1.03"
      ]
     },
     "execution_count": 36,
     "metadata": {},
     "output_type": "execute_result"
    }
   ],
   "source": [
    "# Calculate the test statistic\n",
    "Z = (christmas_win_proportion - non_christmas_win_proportion) / (sqrt((non_christmas_win_proportion * (1 - non_christmas_win_proportion) / non_christmas_sample_size) + christmas_win_proportion * (1 - christmas_win_proportion) / christmas_sample_size))\n",
    "round(Z, 2)"
   ]
  },
  {
   "cell_type": "markdown",
   "metadata": {},
   "source": [
    "Once again there is insufficient evidence at the 95% level that our null hypothesis is incorrect.\n",
    "\n",
    "This is a highly simplisitic model and only takes into account the end result of the games. To do this analysis more thoroughly we should also consider taking into account the following factors:\n",
    "\n",
    "- Table Position\n",
    "- Opponent Table Position\n",
    "- Number of Injuries\n",
    "- Home / Away\n",
    "\n",
    "An analysis can then be done on whether Leeds underperform or outperform their expected performance during the Christmas period.\n",
    "\n",
    "Until then, all I can say to my dad is that it's all in his head! Cheer up!\n",
    "\n",
    "Cheers,\n",
    "\n",
    "Justin Smallwood\n",
    "\n",
    "justin.d.smallwood@gmail.com"
   ]
  }
 ],
 "metadata": {
  "kernelspec": {
   "display_name": "Python 3",
   "language": "python",
   "name": "python3"
  },
  "language_info": {
   "codemirror_mode": {
    "name": "ipython",
    "version": 3
   },
   "file_extension": ".py",
   "mimetype": "text/x-python",
   "name": "python",
   "nbconvert_exporter": "python",
   "pygments_lexer": "ipython3",
   "version": "3.8.3"
  }
 },
 "nbformat": 4,
 "nbformat_minor": 4
}
